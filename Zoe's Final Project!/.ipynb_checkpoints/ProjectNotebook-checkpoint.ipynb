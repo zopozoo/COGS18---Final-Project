{
 "cells": [
  {
   "cell_type": "markdown",
   "id": "79968a7b",
   "metadata": {},
   "source": [
    "# Welcome to \"Step up!\" 👟\n",
    "\n",
    "### Your personal health and lifestyle tracker system ...\n"
   ]
  },
  {
   "cell_type": "markdown",
   "id": "6f92e826",
   "metadata": {},
   "source": [
    "Features of this system:\n",
    "1. Input your daily steps into a comprehensive dataframe\n",
    "2. Predict calories burnt per day using linear regression\n",
    "3. Line chart and average of your steps over time"
   ]
  },
  {
   "cell_type": "markdown",
   "id": "fa34920d",
   "metadata": {},
   "source": [
    "## Process"
   ]
  },
  {
   "cell_type": "markdown",
   "id": "ed3fcdab",
   "metadata": {},
   "source": [
    "For most of my life I was never a super active person, but once entering college and traversing through UCSD's big campus, I have walked more often and for longer periods of time than I ever have. Paired with the fact that my dorm is quite compeitive when it comes to comparing daily step counts, for the COGS 18 final project I wanted to create a system that would help me stay motivated when it comes to staying healthy.\n",
    "\n",
    "My inital idea for this project was to create a prediction model trained on a dataset with variables such as \"sleep duration\", \"step count\", \"age\", etc. and its effect on blood pressure. I found one dataset but it had a very bad R-squared value and correlation for the variables I wanted to analyze. Thus, I decided to keep it simple and focus on predicting the calories burnt based on one day's step count. I imported scikit-learn and used its linear regression methods to create a simple machine learning prediction model trained on another dataset I found on Kaggle of the data of 30 fitbit users. For the parameters, the independent variable X was set to the daily step count data and the dependent y variable was set to the calories burnt on the specified day."
   ]
  },
  {
   "cell_type": "markdown",
   "id": "0d926812",
   "metadata": {},
   "source": [
    "After writing the function to train the model, I created a User class that has various methods within it that utilizes the prediction model. Using the \"add new entry\" method, users can enter their daily step count and the date to create and build upon a dataframe. This dataframe can then be used to predict the calories burnt for each entry, plot a graph of steps over time, calculate the user's average steps, and more! Have fun exploring the various features of \"Step Up\"!\n",
    "\n",
    "Kaggle link: https://www.kaggle.com/datasets/shivideveshwar/fitbit-data-analysis/data?select=Sleep+and+Activity.csv"
   ]
  },
  {
   "cell_type": "markdown",
   "id": "d87b82e1",
   "metadata": {},
   "source": [
    "## Project Code"
   ]
  },
  {
   "cell_type": "code",
   "execution_count": 1,
   "id": "88d81a33",
   "metadata": {},
   "outputs": [],
   "source": [
    "# importing libraries\n",
    "import pandas as pd\n",
    "import numpy as np"
   ]
  },
  {
   "cell_type": "code",
   "execution_count": 2,
   "id": "6ec91977",
   "metadata": {},
   "outputs": [],
   "source": [
    "import sys\n",
    "sys.path.append(\"my_module/\")\n",
    "\n",
    "from classes import User\n",
    "from functions import create_user_profile, train_model"
   ]
  },
  {
   "cell_type": "markdown",
   "id": "6e9b6c93",
   "metadata": {},
   "source": [
    "### Train the model first!"
   ]
  },
  {
   "cell_type": "code",
   "execution_count": 3,
   "id": "feaf9e13",
   "metadata": {},
   "outputs": [
    {
     "name": "stdout",
     "output_type": "stream",
     "text": [
      "Model is trained\n"
     ]
    }
   ],
   "source": [
    "# saves the trained model to a variable\n",
    "trained_model = train_model()"
   ]
  },
  {
   "cell_type": "markdown",
   "id": "823ba89c",
   "metadata": {},
   "source": [
    "### Create your user profile 👩‍💻"
   ]
  },
  {
   "cell_type": "code",
   "execution_count": 4,
   "id": "044c16e5",
   "metadata": {},
   "outputs": [
    {
     "name": "stdout",
     "output_type": "stream",
     "text": [
      "What is your name?\n",
      "Zoe\n",
      "What is your step goal?\n",
      "10000\n",
      "User account created: Zoe: 10000 daily steps goal\n"
     ]
    }
   ],
   "source": [
    "user = create_user_profile(trained_model)"
   ]
  },
  {
   "cell_type": "markdown",
   "id": "c7985890",
   "metadata": {},
   "source": [
    "### Add a new entry...and another one!"
   ]
  },
  {
   "cell_type": "code",
   "execution_count": 17,
   "id": "d19518d3",
   "metadata": {},
   "outputs": [
    {
     "name": "stdout",
     "output_type": "stream",
     "text": [
      "Daily steps\n",
      "3947\n",
      "YYYY-MM-DD\n",
      "2024-03-23\n"
     ]
    },
    {
     "data": {
      "text/html": [
       "<div>\n",
       "<style scoped>\n",
       "    .dataframe tbody tr th:only-of-type {\n",
       "        vertical-align: middle;\n",
       "    }\n",
       "\n",
       "    .dataframe tbody tr th {\n",
       "        vertical-align: top;\n",
       "    }\n",
       "\n",
       "    .dataframe thead th {\n",
       "        text-align: right;\n",
       "    }\n",
       "</style>\n",
       "<table border=\"1\" class=\"dataframe\">\n",
       "  <thead>\n",
       "    <tr style=\"text-align: right;\">\n",
       "      <th></th>\n",
       "      <th>Date</th>\n",
       "      <th>Daily Steps</th>\n",
       "    </tr>\n",
       "  </thead>\n",
       "  <tbody>\n",
       "    <tr>\n",
       "      <th>0</th>\n",
       "      <td>2024-03-01</td>\n",
       "      <td>9344</td>\n",
       "    </tr>\n",
       "    <tr>\n",
       "      <th>1</th>\n",
       "      <td>2024-03-03</td>\n",
       "      <td>7549</td>\n",
       "    </tr>\n",
       "    <tr>\n",
       "      <th>2</th>\n",
       "      <td>2024-03-07</td>\n",
       "      <td>7548</td>\n",
       "    </tr>\n",
       "    <tr>\n",
       "      <th>3</th>\n",
       "      <td>2024-03-08</td>\n",
       "      <td>3256</td>\n",
       "    </tr>\n",
       "    <tr>\n",
       "      <th>4</th>\n",
       "      <td>2024-03-23</td>\n",
       "      <td>3947</td>\n",
       "    </tr>\n",
       "  </tbody>\n",
       "</table>\n",
       "</div>"
      ],
      "text/plain": [
       "         Date  Daily Steps\n",
       "0  2024-03-01         9344\n",
       "1  2024-03-03         7549\n",
       "2  2024-03-07         7548\n",
       "3  2024-03-08         3256\n",
       "4  2024-03-23         3947"
      ]
     },
     "execution_count": 17,
     "metadata": {},
     "output_type": "execute_result"
    }
   ],
   "source": [
    "user.add_new_entry()"
   ]
  },
  {
   "cell_type": "code",
   "execution_count": 18,
   "id": "2240361c",
   "metadata": {},
   "outputs": [
    {
     "data": {
      "text/html": [
       "<div>\n",
       "<style scoped>\n",
       "    .dataframe tbody tr th:only-of-type {\n",
       "        vertical-align: middle;\n",
       "    }\n",
       "\n",
       "    .dataframe tbody tr th {\n",
       "        vertical-align: top;\n",
       "    }\n",
       "\n",
       "    .dataframe thead th {\n",
       "        text-align: right;\n",
       "    }\n",
       "</style>\n",
       "<table border=\"1\" class=\"dataframe\">\n",
       "  <thead>\n",
       "    <tr style=\"text-align: right;\">\n",
       "      <th></th>\n",
       "      <th>Date</th>\n",
       "      <th>Daily Steps</th>\n",
       "    </tr>\n",
       "  </thead>\n",
       "  <tbody>\n",
       "    <tr>\n",
       "      <th>0</th>\n",
       "      <td>2024-03-01</td>\n",
       "      <td>9344</td>\n",
       "    </tr>\n",
       "    <tr>\n",
       "      <th>1</th>\n",
       "      <td>2024-03-03</td>\n",
       "      <td>7549</td>\n",
       "    </tr>\n",
       "    <tr>\n",
       "      <th>2</th>\n",
       "      <td>2024-03-07</td>\n",
       "      <td>7548</td>\n",
       "    </tr>\n",
       "    <tr>\n",
       "      <th>3</th>\n",
       "      <td>2024-03-08</td>\n",
       "      <td>3256</td>\n",
       "    </tr>\n",
       "  </tbody>\n",
       "</table>\n",
       "</div>"
      ],
      "text/plain": [
       "         Date  Daily Steps\n",
       "0  2024-03-01         9344\n",
       "1  2024-03-03         7549\n",
       "2  2024-03-07         7548\n",
       "3  2024-03-08         3256"
      ]
     },
     "execution_count": 18,
     "metadata": {},
     "output_type": "execute_result"
    }
   ],
   "source": [
    "user.remove_last_entry()"
   ]
  },
  {
   "cell_type": "code",
   "execution_count": 19,
   "id": "7b7ad06b",
   "metadata": {},
   "outputs": [
    {
     "data": {
      "text/html": [
       "<div>\n",
       "<style scoped>\n",
       "    .dataframe tbody tr th:only-of-type {\n",
       "        vertical-align: middle;\n",
       "    }\n",
       "\n",
       "    .dataframe tbody tr th {\n",
       "        vertical-align: top;\n",
       "    }\n",
       "\n",
       "    .dataframe thead th {\n",
       "        text-align: right;\n",
       "    }\n",
       "</style>\n",
       "<table border=\"1\" class=\"dataframe\">\n",
       "  <thead>\n",
       "    <tr style=\"text-align: right;\">\n",
       "      <th></th>\n",
       "      <th>Date</th>\n",
       "      <th>Daily Steps</th>\n",
       "    </tr>\n",
       "  </thead>\n",
       "  <tbody>\n",
       "    <tr>\n",
       "      <th>0</th>\n",
       "      <td>2024-03-01</td>\n",
       "      <td>9344</td>\n",
       "    </tr>\n",
       "    <tr>\n",
       "      <th>1</th>\n",
       "      <td>2024-03-03</td>\n",
       "      <td>7549</td>\n",
       "    </tr>\n",
       "    <tr>\n",
       "      <th>2</th>\n",
       "      <td>2024-03-07</td>\n",
       "      <td>7548</td>\n",
       "    </tr>\n",
       "    <tr>\n",
       "      <th>3</th>\n",
       "      <td>2024-03-08</td>\n",
       "      <td>3256</td>\n",
       "    </tr>\n",
       "  </tbody>\n",
       "</table>\n",
       "</div>"
      ],
      "text/plain": [
       "         Date  Daily Steps\n",
       "0  2024-03-01         9344\n",
       "1  2024-03-03         7549\n",
       "2  2024-03-07         7548\n",
       "3  2024-03-08         3256"
      ]
     },
     "execution_count": 19,
     "metadata": {},
     "output_type": "execute_result"
    }
   ],
   "source": [
    "user.get_all_entries()"
   ]
  },
  {
   "cell_type": "markdown",
   "id": "cd70dc0f",
   "metadata": {},
   "source": [
    "### And plot it 📈"
   ]
  },
  {
   "cell_type": "code",
   "execution_count": 20,
   "id": "99f8627f",
   "metadata": {},
   "outputs": [
    {
     "data": {
      "image/png": "[encoded data removed]",
      "text/plain": [
       "<Figure size 432x288 with 1 Axes>"
      ]
     },
     "metadata": {
      "needs_background": "light"
     },
     "output_type": "display_data"
    }
   ],
   "source": [
    "user.plot_steps()"
   ]
  },
  {
   "cell_type": "markdown",
   "id": "6d9e3a5e",
   "metadata": {},
   "source": [
    "### Let's see how many calories you've burnt so far ~"
   ]
  },
  {
   "cell_type": "code",
   "execution_count": 21,
   "id": "88e1f32b",
   "metadata": {},
   "outputs": [
    {
     "data": {
      "text/html": [
       "<div>\n",
       "<style scoped>\n",
       "    .dataframe tbody tr th:only-of-type {\n",
       "        vertical-align: middle;\n",
       "    }\n",
       "\n",
       "    .dataframe tbody tr th {\n",
       "        vertical-align: top;\n",
       "    }\n",
       "\n",
       "    .dataframe thead th {\n",
       "        text-align: right;\n",
       "    }\n",
       "</style>\n",
       "<table border=\"1\" class=\"dataframe\">\n",
       "  <thead>\n",
       "    <tr style=\"text-align: right;\">\n",
       "      <th></th>\n",
       "      <th>Date</th>\n",
       "      <th>Daily Steps</th>\n",
       "      <th>Predicted Calories Burnt</th>\n",
       "    </tr>\n",
       "  </thead>\n",
       "  <tbody>\n",
       "    <tr>\n",
       "      <th>0</th>\n",
       "      <td>2024-03-01</td>\n",
       "      <td>9344</td>\n",
       "      <td>2461.0</td>\n",
       "    </tr>\n",
       "    <tr>\n",
       "      <th>1</th>\n",
       "      <td>2024-03-03</td>\n",
       "      <td>7549</td>\n",
       "      <td>2309.0</td>\n",
       "    </tr>\n",
       "    <tr>\n",
       "      <th>2</th>\n",
       "      <td>2024-03-07</td>\n",
       "      <td>7548</td>\n",
       "      <td>2309.0</td>\n",
       "    </tr>\n",
       "    <tr>\n",
       "      <th>3</th>\n",
       "      <td>2024-03-08</td>\n",
       "      <td>3256</td>\n",
       "      <td>1947.0</td>\n",
       "    </tr>\n",
       "  </tbody>\n",
       "</table>\n",
       "</div>"
      ],
      "text/plain": [
       "         Date  Daily Steps  Predicted Calories Burnt\n",
       "0  2024-03-01         9344                    2461.0\n",
       "1  2024-03-03         7549                    2309.0\n",
       "2  2024-03-07         7548                    2309.0\n",
       "3  2024-03-08         3256                    1947.0"
      ]
     },
     "execution_count": 21,
     "metadata": {},
     "output_type": "execute_result"
    }
   ],
   "source": [
    "user.predict_calories_burnt()"
   ]
  },
  {
   "cell_type": "markdown",
   "id": "50a0399e",
   "metadata": {},
   "source": [
    "### Did you hit your step goal?🎯"
   ]
  },
  {
   "cell_type": "code",
   "execution_count": 22,
   "id": "7a63ddf9",
   "metadata": {},
   "outputs": [
    {
     "data": {
      "text/plain": [
       "\"You're doing great! You have an average step count of 6924. Just a little more to go until reaching 10000 steps.\""
      ]
     },
     "execution_count": 22,
     "metadata": {},
     "output_type": "execute_result"
    }
   ],
   "source": [
    "user.average_steps()"
   ]
  },
  {
   "cell_type": "code",
   "execution_count": 23,
   "id": "f7b01e57",
   "metadata": {},
   "outputs": [
    {
     "data": {
      "text/plain": [
       "'Yay! Keep working hard, 0% of all your entries have reached your target step goal. In the past seven days (entries), you have walked a total of 27697 steps and burned a total of 9026 calories!'"
      ]
     },
     "execution_count": 23,
     "metadata": {},
     "output_type": "execute_result"
    }
   ],
   "source": [
    "user.step_goal_calorie_summary()"
   ]
  },
  {
   "cell_type": "markdown",
   "id": "a8ed9123",
   "metadata": {},
   "source": [
    "### Pytest"
   ]
  },
  {
   "cell_type": "code",
   "execution_count": 24,
   "id": "fdd4cb7c",
   "metadata": {},
   "outputs": [
    {
     "name": "stdout",
     "output_type": "stream",
     "text": [
      "\u001b[1m============================= test session starts ==============================\u001b[0m\n",
      "platform linux -- Python 3.9.5, pytest-7.4.4, pluggy-1.3.0\n",
      "rootdir: /home/zochiu/Final-Project/Zoe's Final Project!\n",
      "plugins: anyio-3.2.1\n",
      "collected 7 items                                                              \u001b[0m\u001b[1m\n",
      "\n",
      "my_module/test_functions.py \u001b[32m.\u001b[0m\u001b[32m.\u001b[0m\u001b[32m.\u001b[0m\u001b[32m.\u001b[0m\u001b[32m.\u001b[0m\u001b[32m.\u001b[0m\u001b[32m.\u001b[0m\u001b[32m                                      [100%]\u001b[0m\n",
      "\n",
      "\u001b[32m============================== \u001b[32m\u001b[1m7 passed\u001b[0m\u001b[32m in 1.46s\u001b[0m\u001b[32m ===============================\u001b[0m\n"
     ]
    }
   ],
   "source": [
    "!pytest my_module/test_functions.py"
   ]
  },
  {
   "cell_type": "markdown",
   "id": "05914bbb",
   "metadata": {},
   "source": [
    "## Extra Credit 🌟\n"
   ]
  },
  {
   "cell_type": "markdown",
   "id": "8444cbef",
   "metadata": {},
   "source": [
    "I came into this course with very basic coding and Python knowledge and have never created a machine learning model prior to this course. The course very breifly glossed over sklearn and how to use its linear regression methods so I spent some time researching and learning from Youtube in order to correctly code my model. We also did not go over how to create test functions for pytests in depth, specifically for simulating user input functions. Examples of this include figuring out Pytest's Monkeypatch and using Lambda. I actually spent a most of the time trouble shooting for the pytests as well as my imports. Getting my imported functions to work without any errors was a major learning curve for me which I spent hours on. Overall, this code took me more than 15 hours to complete so I believe I deserve recognition for my effort throughout this process."
   ]
  }
 ],
 "metadata": {
  "kernelspec": {
   "display_name": "Python 3 (ipykernel)",
   "language": "python",
   "name": "python3"
  },
  "language_info": {
   "codemirror_mode": {
    "name": "ipython",
    "version": 3
   },
   "file_extension": ".py",
   "mimetype": "text/x-python",
   "name": "python",
   "nbconvert_exporter": "python",
   "pygments_lexer": "ipython3",
   "version": "3.9.5"
  }
 },
 "nbformat": 4,
 "nbformat_minor": 5
}
